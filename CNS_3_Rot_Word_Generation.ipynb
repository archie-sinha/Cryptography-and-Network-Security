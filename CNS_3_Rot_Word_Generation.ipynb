{
  "nbformat": 4,
  "nbformat_minor": 0,
  "metadata": {
    "colab": {
      "provenance": [],
      "authorship_tag": "ABX9TyNJ6+bWD9gU5tM3/b5pZCWu",
      "include_colab_link": true
    },
    "kernelspec": {
      "name": "python3",
      "display_name": "Python 3"
    },
    "language_info": {
      "name": "python"
    }
  },
  "cells": [
    {
      "cell_type": "markdown",
      "metadata": {
        "id": "view-in-github",
        "colab_type": "text"
      },
      "source": [
        "<a href=\"https://colab.research.google.com/github/archie-sinha/Cryptography-and-Network-Security/blob/main/CNS_3_Rot_Word_Generation.ipynb\" target=\"_parent\"><img src=\"https://colab.research.google.com/assets/colab-badge.svg\" alt=\"Open In Colab\"/></a>"
      ]
    },
    {
      "cell_type": "markdown",
      "source": [
        "## **Archisha Sinha**\n",
        "## Domain: Cryptography and Network Security\n",
        "## Topic: Rot Word Generation\n",
        "\n",
        "---"
      ],
      "metadata": {
        "id": "uv3DCLQ6HltH"
      }
    },
    {
      "cell_type": "code",
      "execution_count": 1,
      "metadata": {
        "colab": {
          "base_uri": "https://localhost:8080/"
        },
        "id": "JWts9EA6Hkdw",
        "outputId": "98086281-1e3b-4c98-8da7-0f3ad0c33ace"
      },
      "outputs": [
        {
          "output_type": "stream",
          "name": "stdout",
          "text": [
            "[611689139, 880105096, 836899328, 329929863, 2304095694, 3173049158, 2361585990, 2674435521, 3461598485, 1936928339, 4289847061, 1624865492, 4287202757, 2365238166, 1934324867, 328339031, 3089292984, 886601006, 1200816557, 1409355770, 3562337176, 3767305910, 2803861275, 4078864609, 2257587093, 1713147171, 3238201912, 840794841, 1652768438, 77575061, 3315382701, 4152441716, 3999378654, 3942522699, 794994406, 3638795666, 3829392319, 247594228, 564353554, 4181772160, 3556322854, 3711488722, 4238051520, 98258752]\n",
            "['0x2475a2b3', '0x34755688', '0x31e21200', '0x13aa5487', '0x8955b5ce', '0xbd20e346', '0x8cc2f146', '0x9f68a5c1', '0xce53cd15', '0x73732e53', '0xffb1df15', '0x60d97ad4', '0xff8985c5', '0x8cfaab96', '0x734b7483', '0x13920e57', '0xb822deb8', '0x34d8752e', '0x479301ad', '0x54010ffa', '0xd454f398', '0xe08c86b6', '0xa71f871b', '0xf31e88e1', '0x86900b95', '0x661c8d23', '0xc1030a38', '0x321d82d9', '0x62833eb6', '0x49fb395', '0xc59cb9ad', '0xf7813b74', '0xee61acde', '0xeafe1f4b', '0x2f62a6e6', '0xd8e39d92', '0xe43fe3bf', '0xec1fcf4', '0x21a35a12', '0xf940c780', '0xd3f92e26', '0xdd38d2d2', '0xfc9b88c0', '0x5db4f40']\n"
          ]
        }
      ],
      "source": [
        "#AES Key Expansion\n",
        "# t is given\n",
        "t= [0xAD20177D, 0x470678DB, 0x31da48d0, 0x47ab5b7d, 0x6c762d20, 0x52c4f80d, 0xe4133523, 0x8ce29268, 0x0a5e4f61, 0x37c6cd99]\n",
        "\n",
        "#Initial 4 byte key given\n",
        "j=0\n",
        "w1=[0x2475A2B3, 0x34755688, 0x31E21200, 0x13AA5487]\n",
        "for i in range(4,44):\n",
        "\n",
        "  if i%4==0:\n",
        "    temp1= (t[j]^w1[i-4])\n",
        "    w1.append(temp1)\n",
        "    j=j+1\n",
        "  else:\n",
        "    temp= (w1[i-1]^w1[i-4])\n",
        "    w1.append(temp)\n",
        "print(w1)\n",
        "\n",
        "#Converting the Key in Hex numbers\n",
        "word=[]\n",
        "for i in range(0,44):\n",
        "  temp= hex(w1[i])\n",
        "  word.append(temp)\n",
        "print(word)"
      ]
    },
    {
      "cell_type": "code",
      "source": [
        "a= \"24 75 A2 B3 34 75 56 88 31 E2 12 00 13 AA 54 87\"\n",
        "A= a.split(\" \")"
      ],
      "metadata": {
        "id": "F9JvWls3IFov"
      },
      "execution_count": 2,
      "outputs": []
    },
    {
      "cell_type": "code",
      "source": [
        "def string_to_hex(A):\n",
        "\n",
        "  w0= A[0:4]\n",
        "  w0=\" \".join(w0)\n",
        "  w0= bytes(w0,\"utf-8\")\n",
        "  #print(w0)\n",
        "\n",
        "  w1= A[4:8]\n",
        "  w1=\" \".join(w1)\n",
        "  w1= bytes(w1,\"utf-8\")\n",
        "  #print(w1)\n",
        "\n",
        "  w2= A[8:12]\n",
        "  w2=\" \".join(w2)\n",
        "  w2= bytes(w2,\"utf-8\")\n",
        "  #print(w2)\n",
        "\n",
        "  w3= A[12:16]\n",
        "  w3=\" \".join(w3)\n",
        "  w3= bytes(w3,\"utf-8\")\n",
        "  #print(w3)\n",
        "\n",
        "  return(w0,w1,w2,w3)"
      ],
      "metadata": {
        "id": "iq9nP9ojLMhT"
      },
      "execution_count": 3,
      "outputs": []
    },
    {
      "cell_type": "code",
      "source": [
        "w0, w1,w2,w3= string_to_hex(A)\n",
        "print(w0)\n",
        "print(w1)\n",
        "print(w2)\n",
        "print(w3)"
      ],
      "metadata": {
        "colab": {
          "base_uri": "https://localhost:8080/"
        },
        "id": "3-BIUFqfNhOY",
        "outputId": "8b074552-f806-41fa-a205-1aa866b1ab96"
      },
      "execution_count": 4,
      "outputs": [
        {
          "output_type": "stream",
          "name": "stdout",
          "text": [
            "b'24 75 A2 B3'\n",
            "b'34 75 56 88'\n",
            "b'31 E2 12 00'\n",
            "b'13 AA 54 87'\n"
          ]
        }
      ]
    },
    {
      "cell_type": "code",
      "source": [
        "words=[w0, w1, w2, w3]\n",
        "print(words)"
      ],
      "metadata": {
        "colab": {
          "base_uri": "https://localhost:8080/"
        },
        "id": "uNqLBIvzRZOr",
        "outputId": "59103db9-5a3a-49ca-b0ad-565d22dc9071"
      },
      "execution_count": 5,
      "outputs": [
        {
          "output_type": "stream",
          "name": "stdout",
          "text": [
            "[b'24 75 A2 B3', b'34 75 56 88', b'31 E2 12 00', b'13 AA 54 87']\n"
          ]
        }
      ]
    },
    {
      "cell_type": "code",
      "source": [
        "t= [0xAD20177D, 0x470678DB, 0x31da48d0, 0x47ab5b7d, 0x6c762d20, 0x52c4f80d, 0xe4133523, 0x8ce29268, 0x0a5e4f61, 0x37c6cd99]"
      ],
      "metadata": {
        "id": "jWxxal-lLsWk"
      },
      "execution_count": 6,
      "outputs": []
    },
    {
      "cell_type": "markdown",
      "source": [
        "----"
      ],
      "metadata": {
        "id": "ms7xA7OfHJJs"
      }
    },
    {
      "cell_type": "markdown",
      "source": [
        "##Write a function to generate 44 words of key, use the values of temporary words “t” as given in the example above"
      ],
      "metadata": {
        "id": "9llgk738HmY9"
      }
    },
    {
      "cell_type": "code",
      "source": [
        "def generate_key(t_bytes):\n",
        "  \"\"\"Generates 44 words of key from the temporary words \"t\".\n",
        "\n",
        "  Args:\n",
        "    t_bytes: A list of 16 bytes.\n",
        "\n",
        "  Returns:\n",
        "    A list of 44 words.\n",
        "  \"\"\"\n",
        "\n",
        "  words = []\n",
        "\n",
        "  for i in range(0, len(t_bytes), 4):\n",
        "    word = bytes(t_bytes[i:i + 4])\n",
        "    word_hex = word.hex()\n",
        "    words.append(word_hex)\n",
        "\n",
        "  for i in range(44 - len(words)):\n",
        "    words.append(\"00000000\")\n",
        "\n",
        "  return words"
      ],
      "metadata": {
        "id": "y8KfhgLpHK18"
      },
      "execution_count": 7,
      "outputs": []
    },
    {
      "cell_type": "code",
      "source": [
        "def hex_to_bytes(hex_string):\n",
        "  \"\"\"Converts a hex string to bytes.\"\"\"\n",
        "  hex_string = hex_string.replace(\" \", \"\")  # Remove spaces\n",
        "  return bytes.fromhex(hex_string)\n"
      ],
      "metadata": {
        "id": "ZWhyi82LlftI"
      },
      "execution_count": 8,
      "outputs": []
    },
    {
      "cell_type": "code",
      "source": [
        "t_bytes = hex_to_bytes(\"24 75 A2 B3 34 75 56 88 31 E2 12 00 13 AA 54 87\")"
      ],
      "metadata": {
        "id": "9_rRsXwEHNz1"
      },
      "execution_count": 9,
      "outputs": []
    },
    {
      "cell_type": "code",
      "source": [
        "print(t_bytes)"
      ],
      "metadata": {
        "colab": {
          "base_uri": "https://localhost:8080/"
        },
        "id": "zAS5giXQJOH9",
        "outputId": "0f9b6952-c8bd-4b30-a1bf-833a8ef3cbf9"
      },
      "execution_count": 10,
      "outputs": [
        {
          "output_type": "stream",
          "name": "stdout",
          "text": [
            "b'$u\\xa2\\xb34uV\\x881\\xe2\\x12\\x00\\x13\\xaaT\\x87'\n"
          ]
        }
      ]
    },
    {
      "cell_type": "code",
      "source": [
        "keys = generate_key(t_bytes)"
      ],
      "metadata": {
        "id": "SHfwQltpHSF7"
      },
      "execution_count": 11,
      "outputs": []
    },
    {
      "cell_type": "code",
      "source": [
        "print(keys)"
      ],
      "metadata": {
        "id": "wAIZ7eKCJYcg",
        "colab": {
          "base_uri": "https://localhost:8080/"
        },
        "outputId": "86367fe9-6958-4b4a-9126-02ef5faaccb6"
      },
      "execution_count": 12,
      "outputs": [
        {
          "output_type": "stream",
          "name": "stdout",
          "text": [
            "['2475a2b3', '34755688', '31e21200', '13aa5487', '00000000', '00000000', '00000000', '00000000', '00000000', '00000000', '00000000', '00000000', '00000000', '00000000', '00000000', '00000000', '00000000', '00000000', '00000000', '00000000', '00000000', '00000000', '00000000', '00000000', '00000000', '00000000', '00000000', '00000000', '00000000', '00000000', '00000000', '00000000', '00000000', '00000000', '00000000', '00000000', '00000000', '00000000', '00000000', '00000000', '00000000', '00000000', '00000000', '00000000']\n"
          ]
        }
      ]
    },
    {
      "cell_type": "markdown",
      "source": [
        "##Write a function to perform RotWord"
      ],
      "metadata": {
        "id": "goGNKb1LL45L"
      }
    },
    {
      "cell_type": "code",
      "source": [
        "def rotword(word):\n",
        "  #Rotates the bytes in a word by two position.\n",
        "  new_word = word[2:] + word[:2]\n",
        "  return new_word"
      ],
      "metadata": {
        "id": "BAXARRE-J1bZ"
      },
      "execution_count": 13,
      "outputs": []
    },
    {
      "cell_type": "code",
      "source": [
        "word = [1, 2, 3, 4]\n",
        "rotated_word = rotword(t_bytes)\n",
        "print(rotated_word)"
      ],
      "metadata": {
        "colab": {
          "base_uri": "https://localhost:8080/"
        },
        "id": "TvUorIObMG4S",
        "outputId": "620dd4f2-34a0-41ca-b098-7088f1eb33b7"
      },
      "execution_count": 14,
      "outputs": [
        {
          "output_type": "stream",
          "name": "stdout",
          "text": [
            "b'\\xa2\\xb34uV\\x881\\xe2\\x12\\x00\\x13\\xaaT\\x87$u'\n"
          ]
        }
      ]
    },
    {
      "cell_type": "code",
      "source": [
        "def rotword(word):\n",
        "  \"\"\"Rotates the bytes in a word by one position.\"\"\"\n",
        "\n",
        "  rot_word = word[2:] + word[:2]\n",
        "  return rot_word\n",
        "\n",
        "#word = [1, 2, 3, 4]\n",
        "rot_word = rotword(t_bytes)\n",
        "print(rot_word)"
      ],
      "metadata": {
        "id": "_qoOVa7mMKJ6",
        "colab": {
          "base_uri": "https://localhost:8080/"
        },
        "outputId": "50df9afc-b49a-46de-8430-c9698ee61c55"
      },
      "execution_count": 15,
      "outputs": [
        {
          "output_type": "stream",
          "name": "stdout",
          "text": [
            "b'\\xa2\\xb34uV\\x881\\xe2\\x12\\x00\\x13\\xaaT\\x87$u'\n"
          ]
        }
      ]
    },
    {
      "cell_type": "markdown",
      "source": [
        "##Write a function to perform SubWord"
      ],
      "metadata": {
        "id": "-c3QwRWQMjhN"
      }
    },
    {
      "cell_type": "code",
      "source": [
        "def subword(word):\n",
        "  \"\"\"Substitutes the bytes in a word using the AES S-box.\"\"\"\n",
        "\n",
        "  sbox = {\n",
        "      0x00: 0x63, 0x01: 0x7c, 0x02: 0x77, 0x03: 0x7b, 0x04: 0xf2, 0x05: 0x6b,\n",
        "      0x06: 0x6f, 0x07: 0xc5, 0x08: 0x30, 0x09: 0x01, 0x0a: 0x67, 0x0b: 0x2b,\n",
        "      0x0c: 0xfe, 0x0d: 0xd7, 0x0e: 0xab, 0x0f: 0x76, 0x10: 0xca, 0x11: 0x82,\n",
        "      0x12: 0xc9, 0x13: 0x7d, 0x14: 0xfa, 0x15: 0x59, 0x16: 0x47, 0x17: 0xf0,\n",
        "      0x18: 0xad, 0x19: 0xd4, 0x1a: 0xa2, 0x1b: 0xaf, 0x1c: 0x9c, 0x1d: 0xa4,\n",
        "      0x1e: 0x72, 0x1f: 0xc0, 0x20: 0xb7, 0x21: 0xfd, 0x22: 0x93, 0x23: 0x26,\n",
        "      0x24: 0x36, 0x25: 0x3f, 0x26: 0xf7, 0x27: 0xcc, 0x28: 0x34, 0x29: 0xa5,\n",
        "      0x2a: 0xe5, 0x2b: 0xf1, 0x2c: 0x71, 0x2d: 0xd8, 0x2e: 0x31, 0x2f: 0x15,\n",
        "      0x30: 0x04, 0x31: 0xc7, 0x32: 0x23, 0x33: 0xc3, 0x34: 0x18, 0x35: 0x96,\n",
        "      0x36: 0x05, 0x37: 0x9a, 0x38: 0x07, 0x39: 0x12, 0x3a: 0x80, 0x3b: 0xe2,\n",
        "      0x3c: 0xeb, 0x3d: 0x27, 0x3e: 0xb2, 0x3f: 0x75,\n",
        "  }\n",
        "\n",
        "  # Convert bytes to integers before lookup\n",
        "  sub_word = [sbox[int(byte)] for byte in word]\n",
        "\n",
        "  return sub_word"
      ],
      "metadata": {
        "id": "75QSZOM5l3oA"
      },
      "execution_count": 16,
      "outputs": []
    },
    {
      "cell_type": "code",
      "source": [
        "rot_word = [1, 2, 3, 4]\n",
        "print(rot_word)\n",
        "sub_word = subword(rot_word)\n",
        "print(sub_word)"
      ],
      "metadata": {
        "colab": {
          "base_uri": "https://localhost:8080/"
        },
        "id": "guUVkuoqNSlO",
        "outputId": "b14a6d21-ee99-4bee-f6e9-5cbb8eaaa3c8"
      },
      "execution_count": 17,
      "outputs": [
        {
          "output_type": "stream",
          "name": "stdout",
          "text": [
            "[1, 2, 3, 4]\n",
            "[124, 119, 123, 242]\n"
          ]
        }
      ]
    },
    {
      "cell_type": "code",
      "source": [
        "def get_t(word, rcon):\n",
        "  \"\"\"Obtains the temporary word \"t\" using RotWord, SubWord, and RCon values.\"\"\"\n",
        "\n",
        "  t = word\n",
        "\n",
        "  t = rotword(t)\n",
        "  t = subword(t)\n",
        "\n",
        "  t[0] ^= rcon\n",
        "\n",
        "  return t"
      ],
      "metadata": {
        "id": "Rz9sJQ0_NZRN"
      },
      "execution_count": 18,
      "outputs": []
    },
    {
      "cell_type": "code",
      "source": [
        "word = [1, 2, 3, 4]\n",
        "rcon = 0x01\n",
        "\n",
        "t = get_t(word, rcon)\n",
        "\n",
        "print(t)"
      ],
      "metadata": {
        "colab": {
          "base_uri": "https://localhost:8080/"
        },
        "id": "3u5IOg6vNqYO",
        "outputId": "fb1a6850-0fab-4856-b511-1bd4cb441380"
      },
      "execution_count": 19,
      "outputs": [
        {
          "output_type": "stream",
          "name": "stdout",
          "text": [
            "[122, 242, 124, 119]\n"
          ]
        }
      ]
    },
    {
      "cell_type": "code",
      "source": [],
      "metadata": {
        "id": "svZufVf6NujG"
      },
      "execution_count": 19,
      "outputs": []
    }
  ]
}