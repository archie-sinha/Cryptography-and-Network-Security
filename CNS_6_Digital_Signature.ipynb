{
  "nbformat": 4,
  "nbformat_minor": 0,
  "metadata": {
    "colab": {
      "provenance": [],
      "authorship_tag": "ABX9TyONiKXEg+2oACzxxNu6X10l",
      "include_colab_link": true
    },
    "kernelspec": {
      "name": "python3",
      "display_name": "Python 3"
    },
    "language_info": {
      "name": "python"
    }
  },
  "cells": [
    {
      "cell_type": "markdown",
      "metadata": {
        "id": "view-in-github",
        "colab_type": "text"
      },
      "source": [
        "<a href=\"https://colab.research.google.com/github/archie-sinha/Cryptography-and-Network-Security/blob/main/CNS_6_Digital_Signature.ipynb\" target=\"_parent\"><img src=\"https://colab.research.google.com/assets/colab-badge.svg\" alt=\"Open In Colab\"/></a>"
      ]
    },
    {
      "cell_type": "markdown",
      "source": [
        "## **Archisha Sinha**\n",
        "\n",
        "## Domain: Cryptography and Network Security\n",
        "## Topic: Digital Signature using RSA algorithm"
      ],
      "metadata": {
        "id": "MwOHwY7OBC4-"
      }
    },
    {
      "cell_type": "markdown",
      "source": [
        "# Generate Digital Signature using RSA algorithm"
      ],
      "metadata": {
        "id": "cEm2TPWIAeVX"
      }
    },
    {
      "cell_type": "code",
      "execution_count": 1,
      "metadata": {
        "id": "bYt1hevTAb4g"
      },
      "outputs": [],
      "source": [
        "from cryptography.hazmat.backends import default_backend\n",
        "from cryptography.hazmat.primitives import serialization, hashes\n",
        "from cryptography.hazmat.primitives.asymmetric import rsa, padding\n",
        "from cryptography.exceptions import InvalidSignature"
      ]
    },
    {
      "cell_type": "code",
      "source": [
        "# Step 1: Generate RSA key pair (public and private keys)\n",
        "private_key = rsa.generate_private_key(\n",
        "    public_exponent=65537,\n",
        "    key_size=2048,\n",
        "    backend=default_backend()\n",
        ")\n",
        "\n",
        "public_key = private_key.public_key()"
      ],
      "metadata": {
        "id": "RVYilU7VApwj"
      },
      "execution_count": 2,
      "outputs": []
    },
    {
      "cell_type": "code",
      "source": [
        "# Step 2: Sign a message with the private key\n",
        "message = b\"This is the message to be signed.\"\n",
        "signature = private_key.sign(\n",
        "    message,\n",
        "    padding.PSS(\n",
        "        mgf=padding.MGF1(hashes.SHA256()),\n",
        "        salt_length=padding.PSS.MAX_LENGTH\n",
        "    ),\n",
        "    hashes.SHA256()\n",
        ")"
      ],
      "metadata": {
        "id": "BsI4HWOEAtbp"
      },
      "execution_count": 3,
      "outputs": []
    },
    {
      "cell_type": "code",
      "source": [
        "# Step 3: Verify the signature with the public key\n",
        "try:\n",
        "    public_key.verify(\n",
        "        signature,\n",
        "        message,\n",
        "        padding.PSS(\n",
        "            mgf=padding.MGF1(hashes.SHA256()),\n",
        "            salt_length=padding.PSS.MAX_LENGTH\n",
        "        ),\n",
        "        hashes.SHA256()\n",
        "    )\n",
        "    print(\"Signature is valid.\")\n",
        "except InvalidSignature:\n",
        "    print(\"Signature is invalid.\")"
      ],
      "metadata": {
        "colab": {
          "base_uri": "https://localhost:8080/"
        },
        "id": "eUmHjGTLAweG",
        "outputId": "b35e4047-4ec2-4b49-d14b-cdaed6685ea2"
      },
      "execution_count": 4,
      "outputs": [
        {
          "output_type": "stream",
          "name": "stdout",
          "text": [
            "Signature is valid.\n"
          ]
        }
      ]
    },
    {
      "cell_type": "code",
      "source": [],
      "metadata": {
        "id": "_D3Qu7L9AxZH"
      },
      "execution_count": 4,
      "outputs": []
    }
  ]
}