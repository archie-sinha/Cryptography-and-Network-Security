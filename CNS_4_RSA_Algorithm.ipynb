{
  "nbformat": 4,
  "nbformat_minor": 0,
  "metadata": {
    "colab": {
      "provenance": [],
      "authorship_tag": "ABX9TyPgzuZ8pM8zNhCGetxyZdk/",
      "include_colab_link": true
    },
    "kernelspec": {
      "name": "python3",
      "display_name": "Python 3"
    },
    "language_info": {
      "name": "python"
    }
  },
  "cells": [
    {
      "cell_type": "markdown",
      "metadata": {
        "id": "view-in-github",
        "colab_type": "text"
      },
      "source": [
        "<a href=\"https://colab.research.google.com/github/archie-sinha/Cryptography-and-Network-Security/blob/main/CNS_4_RSA_Algorithm.ipynb\" target=\"_parent\"><img src=\"https://colab.research.google.com/assets/colab-badge.svg\" alt=\"Open In Colab\"/></a>"
      ]
    },
    {
      "cell_type": "markdown",
      "source": [
        "## **Archisha Sinha**\n",
        "\n",
        "## Domain: Cryptography and Network Security\n",
        "## Topic: RSA Algorithm\n",
        "\n",
        "\n",
        "\n"
      ],
      "metadata": {
        "id": "5-8CJ_ElFV2J"
      }
    },
    {
      "cell_type": "markdown",
      "source": [
        "\n",
        "Implementation of RSA Algorithm"
      ],
      "metadata": {
        "id": "-HgInsC0K_zd"
      }
    },
    {
      "cell_type": "markdown",
      "source": [
        "Bob chooses 7 and 11 as P and Q. He calculates the number N as 77 (after multiplying P and Q) \\\n",
        "He then chooses e = 13 (private exponent), and d = 37\n",
        "\n",
        "e X dmod60 = 1\n",
        "Plaintext = 5\n",
        "Alice public exponent (e) = 13"
      ],
      "metadata": {
        "id": "qIXs7JMlLLcc"
      }
    },
    {
      "cell_type": "markdown",
      "source": [
        "Importing the \"Math\" Library and defining a function for the Modulo arithmetic"
      ],
      "metadata": {
        "id": "geW9DpkVM0Q2"
      }
    },
    {
      "cell_type": "code",
      "execution_count": null,
      "metadata": {
        "id": "5pKZEjC_Gn2P"
      },
      "outputs": [],
      "source": [
        "import math\n",
        "\n",
        "def GCD(a,h):\n",
        "  temp = 0\n",
        "  while(1):\n",
        "    temp = a%h\n",
        "    if (temp ==0):\n",
        "      return h\n",
        "    a=h\n",
        "    h=temp"
      ]
    },
    {
      "cell_type": "markdown",
      "source": [
        "Inputting the P and Q values, calculating the n value and calculating the phi function"
      ],
      "metadata": {
        "id": "3rkhyzJoN73h"
      }
    },
    {
      "cell_type": "code",
      "source": [
        "p = 7\n",
        "print(\"The value of P is: \", p)\n",
        "q = 11\n",
        "print(\"The value of Q is: \", q)\n",
        "n = p*q\n",
        "print(\"The value of N is: \", n)\n",
        "e = 13\n",
        "phi = (p-1)*(q-1)\n",
        "while (e<phi):\n",
        "  if (GCD(e,phi)==1):\n",
        "    break\n",
        "  else:\n",
        "    e+=1\n",
        "\n",
        "print('The value of e is: ', e)\n",
        "print('The value of Φ(n) is: ',phi)"
      ],
      "metadata": {
        "colab": {
          "base_uri": "https://localhost:8080/"
        },
        "id": "1ciYzGeXNyol",
        "outputId": "e1490fe8-76fb-4286-a178-e8307c2f65fc"
      },
      "execution_count": null,
      "outputs": [
        {
          "output_type": "stream",
          "name": "stdout",
          "text": [
            "The value of P is:  7\n",
            "The value of Q is:  11\n",
            "The value of N is:  77\n",
            "The value of e is:  13\n",
            "The value of Φ(n) is:  60\n"
          ]
        }
      ]
    },
    {
      "cell_type": "code",
      "source": [
        "k = 8\n",
        "d = (1+(k*phi))/e\n",
        "print(\"D = \", d)\n",
        "print(f'Public key: {e, n}')\n",
        "print(f'Private key: {d, n}')"
      ],
      "metadata": {
        "colab": {
          "base_uri": "https://localhost:8080/"
        },
        "id": "6T_fzQrvQfw8",
        "outputId": "558cc5c0-9497-4702-9539-1d6482acdb65"
      },
      "execution_count": null,
      "outputs": [
        {
          "output_type": "stream",
          "name": "stdout",
          "text": [
            "D =  37.0\n",
            "Public key: (13, 77)\n",
            "Private key: (37.0, 77)\n"
          ]
        }
      ]
    },
    {
      "cell_type": "markdown",
      "source": [
        "Inputting the plain text and encrypting the plain text"
      ],
      "metadata": {
        "id": "eO_xf2AJYGSV"
      }
    },
    {
      "cell_type": "code",
      "source": [
        "message = 5\n",
        "print(f'The plaintext is: {message}')\n",
        "C = pow(message, e)\n",
        "C = math.fmod(C, n)\n",
        "print(f'Encrypted message: {C}')"
      ],
      "metadata": {
        "colab": {
          "base_uri": "https://localhost:8080/"
        },
        "id": "uIKXW7NsROwf",
        "outputId": "6eb050c4-374c-41b6-d5c5-e90aa7f02d71"
      },
      "execution_count": null,
      "outputs": [
        {
          "output_type": "stream",
          "name": "stdout",
          "text": [
            "The plaintext is: 5\n",
            "Encrypted message: 26.0\n"
          ]
        }
      ]
    },
    {
      "cell_type": "markdown",
      "source": [
        "Decrypting the cipher text"
      ],
      "metadata": {
        "id": "Tb5Wxtc2NcXC"
      }
    },
    {
      "cell_type": "code",
      "source": [
        "M = pow(C, d)\n",
        "M = math.fmod(M, n)\n",
        "print(f'Decrypted message: {M}')"
      ],
      "metadata": {
        "colab": {
          "base_uri": "https://localhost:8080/"
        },
        "id": "HU3bUSAmNcrE",
        "outputId": "03007565-fec6-425d-e635-1fa269ed6b5a"
      },
      "execution_count": null,
      "outputs": [
        {
          "output_type": "stream",
          "name": "stdout",
          "text": [
            "Decrypted message: 72.0\n"
          ]
        }
      ]
    }
  ]
}